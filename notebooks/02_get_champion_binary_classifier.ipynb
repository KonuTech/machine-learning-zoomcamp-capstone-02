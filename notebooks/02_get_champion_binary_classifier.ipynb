{
 "cells": [
  {
   "cell_type": "code",
   "execution_count": 1,
   "id": "935bcf4c-d57f-4af7-85a1-862b55bee56c",
   "metadata": {},
   "outputs": [],
   "source": [
    "import os\n",
    "import pathlib\n",
    "from typing import Union\n",
    "import datetime\n",
    "import matplotlib.pyplot as plt\n",
    "import seaborn as sns\n",
    "from typing import Any"
   ]
  },
  {
   "cell_type": "code",
   "execution_count": 2,
   "id": "b1ab8000-65a7-4442-ba51-79c8f08d9d7e",
   "metadata": {},
   "outputs": [],
   "source": [
    "import tensorflow as tf\n",
    "from tensorflow.keras.callbacks import ModelCheckpoint, EarlyStopping, ReduceLROnPlateau\n",
    "from tensorflow.keras import Input, Sequential\n",
    "from keras.layers import Conv2D, Flatten, Dense, MaxPool2D, GlobalAveragePooling2D\n",
    "from tensorflow.keras.losses import BinaryCrossentropy\n",
    "from tensorflow.keras.optimizers import Adam\n",
    "from tensorflow.keras.preprocessing.image import ImageDataGenerator\n",
    "from tensorflow.keras.applications import Xception, EfficientNetB3, InceptionV3, EfficientNetB5, VGG16"
   ]
  },
  {
   "cell_type": "code",
   "execution_count": 3,
   "id": "5bd53717-e034-4a29-8ea5-7471d1780b3f",
   "metadata": {},
   "outputs": [],
   "source": [
    "tf.random.set_seed(32167)"
   ]
  },
  {
   "cell_type": "code",
   "execution_count": 4,
   "id": "84d64467-e237-4c2f-afad-53df0e885689",
   "metadata": {},
   "outputs": [],
   "source": [
    "def plot_loss_curves(history: Any) -> None:\n",
    "    \"\"\"\n",
    "    Plots the curves of both loss and accuracy using Seaborn with improved formatting and annotated values\n",
    "    \n",
    "    Args:\n",
    "    - history (Any): History object returned by model.fit()\n",
    "    \"\"\"\n",
    "    loss = history.history['loss']\n",
    "    val_loss = history.history['val_loss']\n",
    "    accuracy = history.history['accuracy']\n",
    "    val_accuracy = history.history['val_accuracy']\n",
    "    epochs = range(len(loss))\n",
    "\n",
    "    # Set Seaborn style with dashed grid lines for specific intervals on y-axis\n",
    "    sns.set_style(\"whitegrid\", {'grid.linestyle': '--'})\n",
    "\n",
    "    fig, axes = plt.subplots(1, 2, figsize=(16, 6))\n",
    "\n",
    "    # Plotting loss\n",
    "    sns.lineplot(x=epochs, y=loss, label='Training Loss', ax=axes[0], linewidth=2, color='blue')\n",
    "    sns.lineplot(x=epochs, y=val_loss, label='Validation Loss', ax=axes[0], linewidth=2, color='orange')\n",
    "    axes[0].set_title('Loss')\n",
    "    axes[0].set_xlabel('Epochs')\n",
    "    axes[0].set_ylim(0, 1.05)  # Set y-axis limits from 0 to 1.05\n",
    "    axes[0].set_yticks([i * 0.2 for i in range(6)])  # Set y-axis ticks at 0.2 intervals\n",
    "    axes[0].legend()\n",
    "\n",
    "    for i in range(0, len(loss), 3):  # Annotate every 3rd epoch for training loss\n",
    "        axes[0].annotate(f'{loss[i]:.2f}', (i, loss[i]), textcoords=\"offset points\", xytext=(0,10), ha='center', fontweight='bold')\n",
    "    for i in range(0, len(val_loss), 3):  # Annotate every 3rd epoch for validation loss\n",
    "        axes[0].annotate(f'{val_loss[i]:.2f}', (i, val_loss[i]), textcoords=\"offset points\", xytext=(0,-15), ha='center', fontweight='bold')\n",
    "\n",
    "    # Plotting accuracy\n",
    "    sns.lineplot(x=epochs, y=accuracy, label='Training Accuracy', ax=axes[1], linewidth=2, color='blue')\n",
    "    sns.lineplot(x=epochs, y=val_accuracy, label='Validation Accuracy', ax=axes[1], linewidth=2, color='orange')\n",
    "    axes[1].set_title('Accuracy')\n",
    "    axes[1].set_xlabel('Epochs')\n",
    "    axes[1].set_ylim(0, 1.05)  # Set y-axis limits from 0 to 1.05\n",
    "    axes[1].set_yticks([i * 0.2 for i in range(6)])  # Set y-axis ticks at 0.2 intervals\n",
    "    axes[1].legend()\n",
    "\n",
    "    for i in range(0, len(accuracy), 3):  # Annotate every 3rd epoch for training accuracy\n",
    "        axes[1].annotate(f'{accuracy[i]:.2f}', (i, accuracy[i]), textcoords=\"offset points\", xytext=(0,10), ha='center', fontweight='bold')\n",
    "    for i in range(0, len(val_accuracy), 3):  # Annotate every 3rd epoch for validation accuracy\n",
    "        axes[1].annotate(f'{val_accuracy[i]:.2f}', (i, val_accuracy[i]), textcoords=\"offset points\", xytext=(0,-15), ha='center', fontweight='bold')\n",
    "\n",
    "    plt.tight_layout()\n",
    "    plt.show()\n"
   ]
  },
  {
   "cell_type": "code",
   "execution_count": 5,
   "id": "d34a23f2-e783-4120-954f-b1b26b3f467f",
   "metadata": {},
   "outputs": [],
   "source": [
    "def create_tensorboard_callback(dir_name: str, experiment_name: str) -> tf.keras.callbacks.TensorBoard:\n",
    "    \"\"\"\n",
    "    Creates a TensorBoard callback instance to store log files.\n",
    "\n",
    "    Stores log files with the filepath:\n",
    "    \"dir_name/experiment_name/current_datetime/\"\n",
    "\n",
    "    Args:\n",
    "    - dir_name (str): target directory to store TensorBoard log files\n",
    "    - experiment_name (str): name of experiment directory (e.g. efficientnet_model_1)\n",
    "    \n",
    "    Returns:\n",
    "    - tensorboard_callback (tf.keras.callbacks.TensorBoard): TensorBoard callback instance\n",
    "    \"\"\"\n",
    "    log_dir = f\"{dir_name}/{experiment_name}/{datetime.datetime.now().strftime('%Y%m%d-%H%M%S')}\"\n",
    "    tensorboard_callback = tf.keras.callbacks.TensorBoard(log_dir=log_dir)\n",
    "    print(f\"Saving TensorBoard log files to: {log_dir}\")\n",
    "    return tensorboard_callback"
   ]
  },
  {
   "cell_type": "code",
   "execution_count": 6,
   "id": "cb222ca4-107b-4a05-b60d-1fa396e0b137",
   "metadata": {},
   "outputs": [
    {
     "data": {
      "text/plain": [
       "'2024-01-06_22-44-37'"
      ]
     },
     "execution_count": 6,
     "metadata": {},
     "output_type": "execute_result"
    }
   ],
   "source": [
    "# Get the current date and time\n",
    "timestamp = datetime.datetime.now().strftime('%Y-%m-%d_%H-%M-%S')\n",
    "timestamp"
   ]
  },
  {
   "cell_type": "code",
   "execution_count": 7,
   "id": "39844d3b-b8cd-4a62-9e7a-ae253e582241",
   "metadata": {},
   "outputs": [],
   "source": [
    "models_path = pathlib.Path(r\"C:\\Users\\KonuTech\\machine-learning-zoomcamp-capstone-02\\models\")"
   ]
  },
  {
   "cell_type": "markdown",
   "id": "6acc9447-44f1-4147-9346-5e23a71166d7",
   "metadata": {},
   "source": [
    "#### Prepare training and validation data sets"
   ]
  },
  {
   "cell_type": "code",
   "execution_count": 8,
   "id": "18f22c95-3274-450e-8e9f-0fd6ec0896a2",
   "metadata": {},
   "outputs": [
    {
     "name": "stdout",
     "output_type": "stream",
     "text": [
      "['not_pizza', 'pizza']\n"
     ]
    }
   ],
   "source": [
    "data_path = pathlib.Path(r\"C:\\Users\\KonuTech\\machine-learning-zoomcamp-capstone-02\\data\\pizza_not_pizza\")\n",
    "class_names = [item.name for item in data_path.glob('*')]\n",
    "print(class_names)"
   ]
  },
  {
   "cell_type": "code",
   "execution_count": 9,
   "id": "f152f281-a17f-4ba0-a09b-9193f9712b8f",
   "metadata": {},
   "outputs": [],
   "source": [
    "data_gen = ImageDataGenerator(\n",
    "    rescale = 1/255.,\n",
    "    validation_split = 0.2\n",
    ")"
   ]
  },
  {
   "cell_type": "code",
   "execution_count": 10,
   "id": "0b30923e-b993-49c2-aa5e-d173a55b9d7b",
   "metadata": {},
   "outputs": [
    {
     "name": "stdout",
     "output_type": "stream",
     "text": [
      "Found 1574 images belonging to 2 classes.\n"
     ]
    }
   ],
   "source": [
    "training_data = data_gen.flow_from_directory(\n",
    "    data_path,\n",
    "    target_size = (224, 224),\n",
    "    batch_size = 32,\n",
    "    subset = 'training',\n",
    "    class_mode = 'binary'\n",
    ")"
   ]
  },
  {
   "cell_type": "code",
   "execution_count": 11,
   "id": "8953ecfa-c129-46f9-a143-16d09e13515e",
   "metadata": {},
   "outputs": [
    {
     "name": "stdout",
     "output_type": "stream",
     "text": [
      "Found 392 images belonging to 2 classes.\n"
     ]
    }
   ],
   "source": [
    "validation_data = data_gen.flow_from_directory(\n",
    "    data_path,\n",
    "    target_size = (224, 224),\n",
    "    batch_size = 32,\n",
    "    subset = 'validation',\n",
    "    class_mode = 'binary'\n",
    ")"
   ]
  },
  {
   "cell_type": "markdown",
   "id": "6be2e7b1-0d92-432f-ad46-a5e47f7e1a9d",
   "metadata": {},
   "source": [
    "#### Create checkpoint callback"
   ]
  },
  {
   "cell_type": "code",
   "execution_count": 12,
   "id": "c4520317-bf37-426f-ac84-85c9cb049997",
   "metadata": {},
   "outputs": [],
   "source": [
    "checkpoint_path = \"pizza_classification_checkpoint\"\n",
    "checkpoint_callback = ModelCheckpoint(\n",
    "    checkpoint_path,\n",
    "    save_weights_only=True,\n",
    "    monitor=\"val_accuracy\",\n",
    "    save_best_only=True\n",
    ")"
   ]
  },
  {
   "cell_type": "code",
   "execution_count": 13,
   "id": "7ee7ecff-fae5-4ec0-87c6-ea16352afec6",
   "metadata": {},
   "outputs": [],
   "source": [
    "early_stopping = EarlyStopping(\n",
    "    monitor = \"val_loss\",\n",
    "    patience = 5,\n",
    "    restore_best_weights = True\n",
    ")"
   ]
  },
  {
   "cell_type": "code",
   "execution_count": 14,
   "id": "0b007393-5c43-4492-85b4-18ae6a1d43c9",
   "metadata": {},
   "outputs": [],
   "source": [
    "reduce_lr = ReduceLROnPlateau(\n",
    "    monitor='val_loss',\n",
    "    factor=0.2,\n",
    "    patience=3,\n",
    "    min_lr=1e-6\n",
    ")"
   ]
  },
  {
   "cell_type": "markdown",
   "id": "d51cc4df-0b32-4305-9a48-e66ce28d9ca3",
   "metadata": {},
   "source": [
    "#### Model 1"
   ]
  },
  {
   "cell_type": "code",
   "execution_count": 15,
   "id": "1cd3ebe8-2f16-4741-a54f-7094759d44bd",
   "metadata": {},
   "outputs": [
    {
     "name": "stdout",
     "output_type": "stream",
     "text": [
      "Model: \"sequential\"\n",
      "_________________________________________________________________\n",
      " Layer (type)                Output Shape              Param #   \n",
      "=================================================================\n",
      " conv2d (Conv2D)             (None, 223, 223, 32)      416       \n",
      "                                                                 \n",
      " conv2d_1 (Conv2D)           (None, 222, 222, 32)      4128      \n",
      "                                                                 \n",
      " flatten (Flatten)           (None, 1577088)           0         \n",
      "                                                                 \n",
      " dense (Dense)               (None, 1)                 1577089   \n",
      "                                                                 \n",
      "=================================================================\n",
      "Total params: 1,581,633\n",
      "Trainable params: 1,581,633\n",
      "Non-trainable params: 0\n",
      "_________________________________________________________________\n"
     ]
    }
   ],
   "source": [
    "model_1 = Sequential([\n",
    "    Input(shape = (224, 224, 3)), # Input layer    \n",
    "    Conv2D(filters = 32, kernel_size = 2, padding = 'valid', activation = 'relu'), # First Convolutional layer\n",
    "    Conv2D(filters = 32, kernel_size = 2, padding = 'valid', activation = 'relu'), # Second Convolutional layer\n",
    "    Flatten(),\n",
    "    Dense(1, activation = 'sigmoid') # Output layer  \n",
    "])\n",
    "\n",
    "model_1.summary()"
   ]
  },
  {
   "cell_type": "code",
   "execution_count": 16,
   "id": "35755c88-621b-427d-9e28-fa37c9012d94",
   "metadata": {},
   "outputs": [
    {
     "name": "stdout",
     "output_type": "stream",
     "text": [
      "Saving TensorBoard log files to: training_logs/pizza_classification/20240106-224437\n",
      "Epoch 1/5\n",
      "50/50 [==============================] - 36s 706ms/step - loss: 2.4558 - accuracy: 0.5273 - val_loss: 0.6895 - val_accuracy: 0.6122 - lr: 0.0010\n",
      "Epoch 2/5\n",
      "50/50 [==============================] - 34s 674ms/step - loss: 0.6339 - accuracy: 0.6741 - val_loss: 0.5984 - val_accuracy: 0.6939 - lr: 0.0010\n",
      "Epoch 3/5\n",
      "50/50 [==============================] - 33s 653ms/step - loss: 0.5011 - accuracy: 0.7903 - val_loss: 0.6086 - val_accuracy: 0.6582 - lr: 0.0010\n",
      "Epoch 4/5\n",
      "50/50 [==============================] - 33s 654ms/step - loss: 0.2467 - accuracy: 0.9288 - val_loss: 0.6307 - val_accuracy: 0.6556 - lr: 0.0010\n",
      "Epoch 5/5\n",
      "50/50 [==============================] - 33s 658ms/step - loss: 0.0834 - accuracy: 0.9828 - val_loss: 0.6594 - val_accuracy: 0.6939 - lr: 0.0010\n"
     ]
    }
   ],
   "source": [
    "model_1.compile(\n",
    "    loss = BinaryCrossentropy(),\n",
    "    optimizer = Adam(),\n",
    "    metrics = ['accuracy']\n",
    ")\n",
    "\n",
    "history = model_1.fit(\n",
    "    training_data,\n",
    "    epochs= 5,\n",
    "    steps_per_epoch = len(training_data),\n",
    "    validation_data = validation_data,\n",
    "    validation_steps = len(validation_data),\n",
    "    callbacks=[\n",
    "        early_stopping,\n",
    "        create_tensorboard_callback(\n",
    "            \"training_logs\",\n",
    "            \"pizza_classification\"\n",
    "        ),\n",
    "        checkpoint_callback,\n",
    "        reduce_lr\n",
    "    ]\n",
    ")"
   ]
  },
  {
   "cell_type": "code",
   "execution_count": 17,
   "id": "daf32d66-98d1-47da-bb3b-8643183ae17f",
   "metadata": {},
   "outputs": [
    {
     "data": {
      "image/png": "[encoded data removed]",
      "text/plain": [
       "<Figure size 1600x600 with 2 Axes>"
      ]
     },
     "metadata": {},
     "output_type": "display_data"
    }
   ],
   "source": [
    "plot_loss_curves(history)"
   ]
  },
  {
   "cell_type": "markdown",
   "id": "ce66a5a0-4ab3-4411-a911-1838bdb6013e",
   "metadata": {},
   "source": [
    "#### Model 2"
   ]
  },
  {
   "cell_type": "code",
   "execution_count": 18,
   "id": "22f3a2b2-e9fd-40ff-9a14-7f47098ac100",
   "metadata": {},
   "outputs": [
    {
     "name": "stdout",
     "output_type": "stream",
     "text": [
      "Model: \"sequential_1\"\n",
      "_________________________________________________________________\n",
      " Layer (type)                Output Shape              Param #   \n",
      "=================================================================\n",
      " conv2d_2 (Conv2D)           (None, 223, 223, 32)      416       \n",
      "                                                                 \n",
      " max_pooling2d (MaxPooling2D  (None, 111, 111, 32)     0         \n",
      " )                                                               \n",
      "                                                                 \n",
      " conv2d_3 (Conv2D)           (None, 110, 110, 32)      4128      \n",
      "                                                                 \n",
      " max_pooling2d_1 (MaxPooling  (None, 55, 55, 32)       0         \n",
      " 2D)                                                             \n",
      "                                                                 \n",
      " flatten_1 (Flatten)         (None, 96800)             0         \n",
      "                                                                 \n",
      " dense_1 (Dense)             (None, 1)                 96801     \n",
      "                                                                 \n",
      "=================================================================\n",
      "Total params: 101,345\n",
      "Trainable params: 101,345\n",
      "Non-trainable params: 0\n",
      "_________________________________________________________________\n"
     ]
    }
   ],
   "source": [
    "model_2 = Sequential(\n",
    "    [\n",
    "        Input(shape = (224, 224, 3)),\n",
    "        Conv2D(filters = 32, kernel_size = 2, padding = 'valid', activation = 'relu'),\n",
    "        MaxPool2D(pool_size = 2), # It will reduce the number of features by half\n",
    "        Conv2D(filters = 32, kernel_size =2, padding = 'valid', activation = 'relu'),\n",
    "        MaxPool2D(pool_size = 2),\n",
    "        Flatten(),\n",
    "        Dense(1, activation = 'sigmoid')\n",
    "    ]\n",
    ")\n",
    "\n",
    "model_2.summary()"
   ]
  },
  {
   "cell_type": "code",
   "execution_count": null,
   "id": "ba9608ab-ef72-457a-b3f0-6ff1e7440710",
   "metadata": {},
   "outputs": [
    {
     "name": "stdout",
     "output_type": "stream",
     "text": [
      "Saving TensorBoard log files to: training_logs/pizza_classification/20240106-224726\n",
      "Epoch 1/5\n",
      "50/50 [==============================] - 35s 693ms/step - loss: 0.0248 - accuracy: 0.9994 - val_loss: 0.6698 - val_accuracy: 0.6862 - lr: 2.0000e-04\n",
      "Epoch 2/5\n",
      "40/50 [=======================>......] - ETA: 6s - loss: 0.0183 - accuracy: 0.9992"
     ]
    }
   ],
   "source": [
    "model_2.compile(\n",
    "    loss = BinaryCrossentropy(),\n",
    "    optimizer = Adam(),\n",
    "    metrics = ['accuracy']\n",
    ")\n",
    "\n",
    "history = model_1.fit(\n",
    "    training_data,\n",
    "    epochs= 5,\n",
    "    steps_per_epoch = len(training_data),\n",
    "    validation_data = validation_data,\n",
    "    validation_steps = len(validation_data),\n",
    "    callbacks=[\n",
    "        early_stopping,\n",
    "        create_tensorboard_callback(\n",
    "            \"training_logs\",\n",
    "            \"pizza_classification\"\n",
    "        ),\n",
    "        checkpoint_callback,\n",
    "        reduce_lr\n",
    "    ]\n",
    ")"
   ]
  },
  {
   "cell_type": "code",
   "execution_count": null,
   "id": "6b5bf50a-4298-4cc8-9e02-55e0e2fd6784",
   "metadata": {},
   "outputs": [],
   "source": [
    "plot_loss_curves(history)"
   ]
  },
  {
   "cell_type": "markdown",
   "id": "adcc4afe-6021-4156-9c0b-c474cd1f4004",
   "metadata": {},
   "source": [
    "#### Model 3"
   ]
  },
  {
   "cell_type": "code",
   "execution_count": null,
   "id": "c255554b-040f-40b4-98d0-c2b35c90198d",
   "metadata": {},
   "outputs": [],
   "source": [
    "augmentations = dict(\n",
    "    rotation_range=50,\n",
    "    width_shift_range=0.1,\n",
    "    height_shift_range=0.1,\n",
    "    brightness_range=None,\n",
    "    shear_range=0.1,\n",
    "    zoom_range=0.1,\n",
    "    channel_shift_range=0.4,\n",
    "    horizontal_flip=True,\n",
    "    fill_mode='nearest'\n",
    ")"
   ]
  },
  {
   "cell_type": "code",
   "execution_count": null,
   "id": "3d690c93-5c94-4f74-95e9-7913390273b9",
   "metadata": {},
   "outputs": [],
   "source": [
    "data_gen_augmented = ImageDataGenerator(\n",
    "    rescale = 1/255.,\n",
    "    validation_split = 0.2,\n",
    "    **augmentations\n",
    ")"
   ]
  },
  {
   "cell_type": "code",
   "execution_count": null,
   "id": "e7af64ca-f8fd-4df8-81ec-ac6089843fe8",
   "metadata": {},
   "outputs": [],
   "source": [
    "# augmented Trining data\n",
    "training_data_augmented = data_gen_augmented.flow_from_directory(\n",
    "    data_path,\n",
    "    target_size = (224, 224),\n",
    "    batch_size = 32,\n",
    "    subset = 'training',class_mode = 'binary'\n",
    ")"
   ]
  },
  {
   "cell_type": "code",
   "execution_count": null,
   "id": "be946ea1-48c9-4731-a710-dead8a165da7",
   "metadata": {},
   "outputs": [],
   "source": [
    "# non augmented Validation data\n",
    "val_data = data_gen.flow_from_directory(\n",
    "    data_path,\n",
    "    target_size = (224, 224),\n",
    "    batch_size = 32,\n",
    "    subset = 'validation',\n",
    "    class_mode = 'binary'\n",
    ")"
   ]
  },
  {
   "cell_type": "code",
   "execution_count": null,
   "id": "c378eb9e-8455-4d57-b676-0d4e53b2c898",
   "metadata": {},
   "outputs": [],
   "source": [
    "model_3 = Sequential(\n",
    "    [\n",
    "        Input(shape = (224, 224, 3)),\n",
    "        Conv2D(filters = 32, kernel_size = 2, padding = 'valid', activation = 'relu'),\n",
    "        MaxPool2D(pool_size = 2),\n",
    "        Conv2D(filters = 32, kernel_size = 2, padding = 'valid', activation = 'relu'),\n",
    "        MaxPool2D(pool_size = 2),\n",
    "        Flatten(),\n",
    "        Dense(1, activation = 'sigmoid')\n",
    "    ]\n",
    ")\n",
    "\n",
    "model_3.summary()"
   ]
  },
  {
   "cell_type": "code",
   "execution_count": null,
   "id": "516a59c4-c14d-4907-8f46-2f474a7ebb10",
   "metadata": {},
   "outputs": [],
   "source": [
    "model_3.compile(\n",
    "    loss = BinaryCrossentropy(),\n",
    "    optimizer = Adam(),\n",
    "    metrics = ['accuracy']\n",
    ")"
   ]
  },
  {
   "cell_type": "code",
   "execution_count": null,
   "id": "04006068-88af-4756-9cf5-6cb8065f8b31",
   "metadata": {},
   "outputs": [],
   "source": [
    "history = model_3.fit(\n",
    "    training_data_augmented, # changing the training data\n",
    "    epochs= 5,\n",
    "    steps_per_epoch = len(training_data_augmented),\n",
    "    validation_data = validation_data,\n",
    "    validation_steps = len(validation_data),\n",
    "    callbacks=[\n",
    "        early_stopping,\n",
    "        create_tensorboard_callback(\n",
    "            \"training_logs\",\n",
    "            \"pizza_classification\"\n",
    "        ),\n",
    "        checkpoint_callback,\n",
    "        reduce_lr\n",
    "    ]\n",
    ")"
   ]
  },
  {
   "cell_type": "code",
   "execution_count": null,
   "id": "de3c6699-3222-43f2-ac1a-e93b1fc58277",
   "metadata": {},
   "outputs": [],
   "source": [
    "plot_loss_curves(history)"
   ]
  },
  {
   "cell_type": "markdown",
   "id": "6a14da44-3a7d-4b33-9d4c-295abe905c3b",
   "metadata": {},
   "source": [
    "#### Model 4"
   ]
  },
  {
   "cell_type": "code",
   "execution_count": null,
   "id": "616bd853-e5a9-4d7a-bac9-05375e49356d",
   "metadata": {},
   "outputs": [],
   "source": [
    "model_4 = Sequential(\n",
    "    [\n",
    "        Input(shape = (224, 224, 3)),\n",
    "        Conv2D(filters = 10, kernel_size = 2, padding = 'valid', activation = 'relu'),\n",
    "        MaxPool2D(pool_size = 2),\n",
    "        Conv2D(filters = 32, kernel_size = 2, padding = 'valid', activation = 'relu'),\n",
    "        MaxPool2D(pool_size = 2),\n",
    "        Conv2D(filters = 64, kernel_size = 2, padding = 'valid', activation = 'relu'),\n",
    "        MaxPool2D(pool_size = 2),\n",
    "        Flatten(),\n",
    "        Dense(1, activation = 'sigmoid')\n",
    "    ]\n",
    ")\n",
    "\n",
    "model_4.summary()"
   ]
  },
  {
   "cell_type": "code",
   "execution_count": null,
   "id": "6625c1e6-00b8-44a8-a477-67a167698e3d",
   "metadata": {},
   "outputs": [],
   "source": [
    "model_4.compile(\n",
    "    loss = BinaryCrossentropy(),\n",
    "    optimizer = Adam(learning_rate = 0.001),\n",
    "    metrics = ['accuracy']\n",
    ")"
   ]
  },
  {
   "cell_type": "code",
   "execution_count": null,
   "id": "d0a5cc8c-84bd-4405-957f-6c8f371b09ed",
   "metadata": {},
   "outputs": [],
   "source": [
    "history = model_4.fit(\n",
    "    training_data, # non-augmented training data\n",
    "    epochs= 20,\n",
    "    steps_per_epoch = len(training_data),\n",
    "    validation_data = validation_data,\n",
    "    validation_steps = len(validation_data),\n",
    "    callbacks=[\n",
    "        early_stopping,\n",
    "        create_tensorboard_callback(\n",
    "            \"training_logs\",\n",
    "            \"pizza_classification\"\n",
    "        ),\n",
    "        checkpoint_callback,\n",
    "        reduce_lr\n",
    "    ]\n",
    ")"
   ]
  },
  {
   "cell_type": "code",
   "execution_count": null,
   "id": "8eda3d6a-f406-4e21-a952-2bfa9dbe2930",
   "metadata": {},
   "outputs": [],
   "source": [
    "plot_loss_curves(history)"
   ]
  },
  {
   "cell_type": "markdown",
   "id": "70dc80ec-6101-45f1-82f3-8c8ff374aef8",
   "metadata": {},
   "source": [
    "#### Model 5"
   ]
  },
  {
   "cell_type": "code",
   "execution_count": null,
   "id": "af550587-951d-4e6c-8d96-3591220c81ab",
   "metadata": {},
   "outputs": [],
   "source": [
    "# Load pre-trained Xception model without the top (fully connected layers)\n",
    "base_model_xception = Xception(\n",
    "    weights='imagenet',\n",
    "    include_top=False,\n",
    "    input_shape=(224, 224, 3)\n",
    ")\n",
    "\n",
    "# Freeze the layers in the base Xception model\n",
    "base_model_xception.trainable = False"
   ]
  },
  {
   "cell_type": "code",
   "execution_count": null,
   "id": "ededc75d-c996-4c9b-8ebe-a9bffba56620",
   "metadata": {},
   "outputs": [],
   "source": [
    "model_5 = Sequential([\n",
    "    base_model_xception,\n",
    "    GlobalAveragePooling2D(),\n",
    "    Dense(1, activation='sigmoid')\n",
    "])\n",
    "\n",
    "model_5.summary()"
   ]
  },
  {
   "cell_type": "code",
   "execution_count": null,
   "id": "444b1bdc-0371-4fdf-b71b-931e403ab60e",
   "metadata": {},
   "outputs": [],
   "source": [
    "model_5.compile(\n",
    "    loss = BinaryCrossentropy(),\n",
    "    optimizer = Adam(learning_rate = 0.001),\n",
    "    metrics = ['accuracy']\n",
    ")"
   ]
  },
  {
   "cell_type": "code",
   "execution_count": null,
   "id": "c1a81432-dc48-444a-b6d8-bde62fa8be67",
   "metadata": {},
   "outputs": [],
   "source": [
    "history = model_5.fit(\n",
    "    training_data, # non-augmented training data\n",
    "    epochs= 20,\n",
    "    steps_per_epoch = len(training_data),\n",
    "    validation_data = validation_data,\n",
    "    validation_steps = len(validation_data),\n",
    "    callbacks=[\n",
    "        early_stopping,\n",
    "        create_tensorboard_callback(\n",
    "            \"training_logs\",\n",
    "            \"pizza_classification\"\n",
    "        ),\n",
    "        checkpoint_callback,\n",
    "        reduce_lr\n",
    "    ]\n",
    ")"
   ]
  },
  {
   "cell_type": "code",
   "execution_count": null,
   "id": "b77ab84b-5cf6-44fc-a9f2-9826d9f640c4",
   "metadata": {},
   "outputs": [],
   "source": [
    "plot_loss_curves(history)"
   ]
  },
  {
   "cell_type": "markdown",
   "id": "03a7c0b4-0385-457b-90d4-049ddf8ad512",
   "metadata": {},
   "source": [
    "#### Model 6"
   ]
  },
  {
   "cell_type": "code",
   "execution_count": null,
   "id": "bd40b6b8-be90-4b18-aa03-5f7f6f79dcdf",
   "metadata": {},
   "outputs": [],
   "source": [
    "base_model_efficientnet = EfficientNetB3(weights='imagenet', include_top=False, input_shape=(224, 224, 3))\n",
    "base_model_efficientnet.trainable = False"
   ]
  },
  {
   "cell_type": "code",
   "execution_count": null,
   "id": "9629951d-eb9b-465e-8630-0c0c95ceb640",
   "metadata": {},
   "outputs": [],
   "source": [
    "model_efficientnet = Sequential([\n",
    "    base_model_efficientnet,\n",
    "    Flatten(),\n",
    "    Dense(1, activation='sigmoid')\n",
    "])\n",
    "\n",
    "model_efficientnet.summary()"
   ]
  },
  {
   "cell_type": "code",
   "execution_count": null,
   "id": "d9e5cd6e-4a01-42b2-a15d-b20b4d930c0b",
   "metadata": {},
   "outputs": [],
   "source": [
    "model_efficientnet.compile(optimizer='adam', loss='binary_crossentropy', metrics=['accuracy'])"
   ]
  },
  {
   "cell_type": "code",
   "execution_count": null,
   "id": "e0b5ef38-c824-4d20-b199-738017d19446",
   "metadata": {},
   "outputs": [],
   "source": [
    "history = model_efficientnet.fit(\n",
    "    training_data, # non-augmented training data\n",
    "    epochs= 20,\n",
    "    steps_per_epoch = len(training_data),\n",
    "    validation_data = validation_data,\n",
    "    validation_steps = len(validation_data),\n",
    "    callbacks=[\n",
    "        early_stopping,\n",
    "        create_tensorboard_callback(\n",
    "            \"training_logs\",\n",
    "            \"pizza_classification\"\n",
    "        ),\n",
    "        checkpoint_callback,\n",
    "        reduce_lr\n",
    "    ]\n",
    ")"
   ]
  },
  {
   "cell_type": "code",
   "execution_count": null,
   "id": "1ce321e1-d413-4310-8c4d-c653db0081d3",
   "metadata": {},
   "outputs": [],
   "source": [
    "plot_loss_curves(history)"
   ]
  },
  {
   "cell_type": "markdown",
   "id": "2757c650-6230-47e3-8a23-c71dc3e0217d",
   "metadata": {},
   "source": [
    "#### Model 7"
   ]
  },
  {
   "cell_type": "code",
   "execution_count": null,
   "id": "45789843-3227-4bca-93b9-2d379edfd99a",
   "metadata": {},
   "outputs": [],
   "source": [
    "base_model_inception = InceptionV3(weights='imagenet', include_top=False, input_shape=(224, 224, 3))\n",
    "base_model_inception.trainable = False"
   ]
  },
  {
   "cell_type": "code",
   "execution_count": null,
   "id": "87cef492-70f7-46c1-a0b9-f42a84b3553b",
   "metadata": {},
   "outputs": [],
   "source": [
    "model_inception = Sequential([\n",
    "    base_model_inception,\n",
    "    Flatten(),\n",
    "    Dense(1, activation='sigmoid')\n",
    "])\n",
    "\n",
    "model_inception.summary()"
   ]
  },
  {
   "cell_type": "code",
   "execution_count": null,
   "id": "f1754ede-dd77-4a87-898d-d5ac30c867c6",
   "metadata": {},
   "outputs": [],
   "source": [
    "model_inception.compile(optimizer='adam', loss='binary_crossentropy', metrics=['accuracy'])"
   ]
  },
  {
   "cell_type": "code",
   "execution_count": null,
   "id": "0a024b63-59d5-4683-bf8d-938f2c7ae24f",
   "metadata": {},
   "outputs": [],
   "source": [
    "history = model_inception.fit(\n",
    "    training_data, # non-augmented training data\n",
    "    epochs= 20,\n",
    "    steps_per_epoch = len(training_data),\n",
    "    validation_data = validation_data,\n",
    "    validation_steps = len(validation_data),\n",
    "    callbacks=[\n",
    "        early_stopping,\n",
    "        create_tensorboard_callback(\n",
    "            \"training_logs\",\n",
    "            \"pizza_classification\"\n",
    "        ),\n",
    "        checkpoint_callback,\n",
    "        reduce_lr\n",
    "    ]\n",
    ")"
   ]
  },
  {
   "cell_type": "code",
   "execution_count": null,
   "id": "b5d82e23-ce74-4f68-b272-afbb3bbf3f00",
   "metadata": {},
   "outputs": [],
   "source": [
    "plot_loss_curves(history)"
   ]
  },
  {
   "cell_type": "markdown",
   "id": "3a6aa546-cded-479c-ad2c-7b816b228bc6",
   "metadata": {},
   "source": [
    "#### Model 8"
   ]
  },
  {
   "cell_type": "code",
   "execution_count": null,
   "id": "d36a1772-c5b4-47bc-b7c5-c994bc5b8dba",
   "metadata": {},
   "outputs": [],
   "source": [
    "base_model_efficientnet_b5 = EfficientNetB5(weights='imagenet', include_top=False, input_shape=(224, 224, 3))\n",
    "base_model_efficientnet_b5.trainable = False"
   ]
  },
  {
   "cell_type": "code",
   "execution_count": null,
   "id": "e94ad7a2-02cc-4e7e-8e1c-684a896cc315",
   "metadata": {},
   "outputs": [],
   "source": [
    "model_efficientnet_b5 = Sequential([\n",
    "    base_model_efficientnet_b5,\n",
    "    Flatten(),\n",
    "    Dense(1, activation='sigmoid')\n",
    "])\n",
    "\n",
    "model_efficientnet_b5.summary()"
   ]
  },
  {
   "cell_type": "code",
   "execution_count": null,
   "id": "a39d5891-6b02-4155-b314-188c92b7dd63",
   "metadata": {},
   "outputs": [],
   "source": [
    "model_efficientnet_b5.compile(optimizer='adam', loss='binary_crossentropy', metrics=['accuracy'])"
   ]
  },
  {
   "cell_type": "code",
   "execution_count": null,
   "id": "c395c5c7-5f50-4ccd-ace0-c080a09879e7",
   "metadata": {},
   "outputs": [],
   "source": [
    "history = model_efficientnet_b5.fit(\n",
    "    training_data, # non-augmented training data\n",
    "    epochs= 20,\n",
    "    steps_per_epoch = len(training_data),\n",
    "    validation_data = validation_data,\n",
    "    validation_steps = len(validation_data),\n",
    "    callbacks=[\n",
    "        early_stopping,\n",
    "        create_tensorboard_callback(\n",
    "            \"training_logs\",\n",
    "            \"pizza_classification\"\n",
    "        ),\n",
    "        checkpoint_callback,\n",
    "        reduce_lr\n",
    "    ]\n",
    ")"
   ]
  },
  {
   "cell_type": "markdown",
   "id": "d90823c4-7578-463c-aaef-48b8f8a07df4",
   "metadata": {},
   "source": [
    "#### Model 9"
   ]
  },
  {
   "cell_type": "code",
   "execution_count": null,
   "id": "64ded8ef-d902-4fa6-8154-cfd3b4ef3537",
   "metadata": {},
   "outputs": [],
   "source": [
    "base_model_vgg16 = VGG16(weights='imagenet', include_top=False, input_shape=(224, 224, 3))\n",
    "base_model_vgg16.trainable = False"
   ]
  },
  {
   "cell_type": "code",
   "execution_count": null,
   "id": "63b32871-8622-4674-87ce-fd22a2d073fe",
   "metadata": {},
   "outputs": [],
   "source": [
    "model_vgg16 = Sequential([\n",
    "    base_model_vgg16,\n",
    "    Flatten(),\n",
    "    Dense(1, activation='sigmoid')\n",
    "])\n",
    "\n",
    "model_vgg16.summary()"
   ]
  },
  {
   "cell_type": "code",
   "execution_count": null,
   "id": "154e0335-4f6e-45aa-a7b7-0338a55842cc",
   "metadata": {},
   "outputs": [],
   "source": [
    "model_vgg16.compile(optimizer='adam', loss='binary_crossentropy', metrics=['accuracy'])"
   ]
  },
  {
   "cell_type": "code",
   "execution_count": null,
   "id": "48c9e6a8-80d3-4114-ad7e-02174854a0f2",
   "metadata": {},
   "outputs": [],
   "source": [
    "history = model_vgg16.fit(\n",
    "    training_data, # non-augmented training data\n",
    "    epochs= 20,\n",
    "    steps_per_epoch = len(training_data),\n",
    "    validation_data = validation_data,\n",
    "    validation_steps = len(validation_data),\n",
    "    callbacks=[\n",
    "        early_stopping,\n",
    "        create_tensorboard_callback(\n",
    "            \"training_logs\",\n",
    "            \"pizza_classification\"\n",
    "        ),\n",
    "        checkpoint_callback,\n",
    "        reduce_lr\n",
    "    ]\n",
    ")"
   ]
  },
  {
   "cell_type": "code",
   "execution_count": null,
   "id": "6b0c23af-be45-44d3-ad71-7a49b9432cc3",
   "metadata": {},
   "outputs": [],
   "source": [
    "plot_loss_curves(history)"
   ]
  },
  {
   "cell_type": "markdown",
   "id": "38b598db-3fd7-4541-bd7f-078030a9d1db",
   "metadata": {},
   "source": [
    "#### Save a model"
   ]
  },
  {
   "cell_type": "code",
   "execution_count": null,
   "id": "d6e592fd-995c-4570-8f50-90a50fbc6861",
   "metadata": {},
   "outputs": [],
   "source": [
    "model_inception.save(f\"{models_path}/model_inception_{timestamp}.keras\")"
   ]
  },
  {
   "cell_type": "markdown",
   "id": "b00b5260-35bc-4bdf-88d9-eda2bd221947",
   "metadata": {},
   "source": [
    "#### Model evaluation"
   ]
  },
  {
   "cell_type": "code",
   "execution_count": null,
   "id": "6adb8e4a-d39a-4313-96e6-47969b43af08",
   "metadata": {},
   "outputs": [],
   "source": [
    "training_score = model.evaluate(training_data, verbose= 1)\n",
    "validation_score = model.evaluate(validation_data, verbose= 1)\n",
    "\n",
    "print(\"Validation Loss: \", validation_score[0])\n",
    "print(\"Validation Accuracy: \", validation_score[1])"
   ]
  }
 ],
 "metadata": {
  "kernelspec": {
   "display_name": "Python 3 (ipykernel)",
   "language": "python",
   "name": "python3"
  },
  "language_info": {
   "codemirror_mode": {
    "name": "ipython",
    "version": 3
   },
   "file_extension": ".py",
   "mimetype": "text/x-python",
   "name": "python",
   "nbconvert_exporter": "python",
   "pygments_lexer": "ipython3",
   "version": "3.9.3"
  }
 },
 "nbformat": 4,
 "nbformat_minor": 5
}
