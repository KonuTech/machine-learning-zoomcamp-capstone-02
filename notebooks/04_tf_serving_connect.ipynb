{
 "cells": [
  {
   "cell_type": "code",
   "execution_count": 1,
   "id": "fb65c621-4690-4715-a9fa-033adcd9673a",
   "metadata": {},
   "outputs": [],
   "source": [
    "# pip list"
   ]
  },
  {
   "cell_type": "code",
   "execution_count": 2,
   "id": "9a9b2a99-0f00-40f7-93de-2902f9238716",
   "metadata": {},
   "outputs": [],
   "source": [
    "import grpc\n",
    "import tensorflow as tf\n",
    "from tensorflow_serving.apis import predict_pb2\n",
    "from tensorflow_serving.apis import prediction_service_pb2_grpc\n",
    "from keras_image_helper import create_preprocessor"
   ]
  },
  {
   "cell_type": "code",
   "execution_count": 3,
   "id": "ed3479a5-eac4-4d76-81e9-e808741f0e14",
   "metadata": {},
   "outputs": [],
   "source": [
    "host = \"localhost:8500\"\n",
    "channel = grpc.insecure_channel(host)\n",
    "stub = prediction_service_pb2_grpc.PredictionServiceStub(channel)"
   ]
  },
  {
   "cell_type": "code",
   "execution_count": 4,
   "id": "83fbff92-4fff-43d3-a02b-af81f7935600",
   "metadata": {},
   "outputs": [],
   "source": [
    "preprocessor = create_preprocessor(\"xception\", target_size=(224, 224))"
   ]
  },
  {
   "cell_type": "code",
   "execution_count": 5,
   "id": "cfdd18ea-fa02-4986-ba84-ed6cd94af299",
   "metadata": {},
   "outputs": [],
   "source": [
    "def np_to_protobuf(data):\n",
    "    return tf.make_tensor_proto(data, shape=data.shape)"
   ]
  },
  {
   "cell_type": "markdown",
   "id": "9e3f2e90-7091-4793-ac57-43d8a77bdf42",
   "metadata": {},
   "source": [
    "#### A pizza"
   ]
  },
  {
   "cell_type": "code",
   "execution_count": 6,
   "id": "38fab452-49a2-44f7-b3f2-766c85b90b99",
   "metadata": {},
   "outputs": [],
   "source": [
    "url = \"https://m.kafeteria.pl/shutterstock-84904912-9cb8cae338,730,0,0,0.jpg\""
   ]
  },
  {
   "cell_type": "code",
   "execution_count": 7,
   "id": "56acbc89-c6b1-4176-b0e7-db51e09f3fb2",
   "metadata": {},
   "outputs": [],
   "source": [
    "X = preprocessor.from_url(url)\n",
    "# X"
   ]
  },
  {
   "cell_type": "code",
   "execution_count": 8,
   "id": "e94f5d9e-68a4-482b-a0de-8c0c12a55571",
   "metadata": {},
   "outputs": [],
   "source": [
    "# np_to_protobuf(X)"
   ]
  },
  {
   "cell_type": "code",
   "execution_count": 9,
   "id": "cb54d735-5b2c-4965-90a7-87960aa2efb4",
   "metadata": {},
   "outputs": [],
   "source": [
    "pb_request = predict_pb2.PredictRequest()\n",
    "pb_request.model_spec.name = \"pizza-model\"\n",
    "pb_request.model_spec.signature_name = \"serving_default\"\n",
    "pb_request.inputs[\"xception_input\"].CopyFrom(np_to_protobuf(X))"
   ]
  },
  {
   "cell_type": "code",
   "execution_count": 10,
   "id": "495df49e-609b-416f-918c-8718c7c134e2",
   "metadata": {},
   "outputs": [],
   "source": [
    "# pb_request"
   ]
  },
  {
   "cell_type": "code",
   "execution_count": 11,
   "id": "01229da9-8c74-4c6e-9a54-95cfbdb6ae57",
   "metadata": {},
   "outputs": [],
   "source": [
    "pb_response = stub.Predict(pb_request, timeout=20.0)"
   ]
  },
  {
   "cell_type": "code",
   "execution_count": 12,
   "id": "63f89ca9-93f2-4b40-893f-32a4b66b276f",
   "metadata": {},
   "outputs": [
    {
     "data": {
      "text/plain": [
       "outputs {\n",
       "  key: \"dense_9\"\n",
       "  value {\n",
       "    dtype: DT_FLOAT\n",
       "    tensor_shape {\n",
       "      dim {\n",
       "        size: 1\n",
       "      }\n",
       "      dim {\n",
       "        size: 1\n",
       "      }\n",
       "    }\n",
       "    float_val: 0.9988852143287659\n",
       "  }\n",
       "}\n",
       "model_spec {\n",
       "  name: \"pizza-model\"\n",
       "  version {\n",
       "    value: 1\n",
       "  }\n",
       "  signature_name: \"serving_default\"\n",
       "}"
      ]
     },
     "execution_count": 12,
     "metadata": {},
     "output_type": "execute_result"
    }
   ],
   "source": [
    "pb_response"
   ]
  },
  {
   "cell_type": "code",
   "execution_count": 13,
   "id": "a0099d68-0bf6-47b6-b105-f9ea38d68925",
   "metadata": {},
   "outputs": [
    {
     "data": {
      "text/plain": [
       "[0.9988852143287659]"
      ]
     },
     "execution_count": 13,
     "metadata": {},
     "output_type": "execute_result"
    }
   ],
   "source": [
    "predictions = pb_response.outputs[\"dense_9\"].float_val\n",
    "predictions"
   ]
  },
  {
   "cell_type": "code",
   "execution_count": 14,
   "id": "7c5b6708-99b0-42e6-9027-b417b1baa3ef",
   "metadata": {},
   "outputs": [
    {
     "name": "stdout",
     "output_type": "stream",
     "text": [
      "It's a pizza!\n"
     ]
    }
   ],
   "source": [
    "for prediction in predictions:\n",
    "    if prediction > 0.5:\n",
    "        print(\"It's a pizza!\")\n",
    "    else:\n",
    "        print(\"Not a pizza.\")"
   ]
  },
  {
   "cell_type": "markdown",
   "id": "df7411e4-ef4e-488f-911e-5aff69011b9f",
   "metadata": {},
   "source": [
    "#### Not a pizza"
   ]
  },
  {
   "cell_type": "code",
   "execution_count": 15,
   "id": "dbc0ad22-6873-4c70-bb3f-121d61282dda",
   "metadata": {},
   "outputs": [],
   "source": [
    "url = \"https://cdn.galleries.smcloud.net/t/galleries/gf-S6yu-gm6t-A9ZJ_zapiekanka-dworcowa-664x442-nocrop.jpg\""
   ]
  },
  {
   "cell_type": "code",
   "execution_count": 16,
   "id": "f0fb66df-474b-4844-8145-7ffce0088495",
   "metadata": {},
   "outputs": [],
   "source": [
    "X = preprocessor.from_url(url)\n",
    "# X"
   ]
  },
  {
   "cell_type": "code",
   "execution_count": 17,
   "id": "c771bb37-a272-4d00-9f0f-2634ae70bd53",
   "metadata": {},
   "outputs": [],
   "source": [
    "# np_to_protobuf(X)"
   ]
  },
  {
   "cell_type": "code",
   "execution_count": 18,
   "id": "7532ae6f-67f5-4333-890c-5c96af0161ee",
   "metadata": {},
   "outputs": [],
   "source": [
    "pb_request = predict_pb2.PredictRequest()\n",
    "pb_request.model_spec.name = \"pizza-model\"\n",
    "pb_request.model_spec.signature_name = \"serving_default\"\n",
    "pb_request.inputs[\"xception_input\"].CopyFrom(np_to_protobuf(X))"
   ]
  },
  {
   "cell_type": "code",
   "execution_count": 19,
   "id": "4ec60d21-9828-4beb-a916-201410112632",
   "metadata": {},
   "outputs": [],
   "source": [
    "# pb_request"
   ]
  },
  {
   "cell_type": "code",
   "execution_count": 20,
   "id": "bca2eb01-f2c3-4a46-8492-4688f0d6343a",
   "metadata": {},
   "outputs": [],
   "source": [
    "pb_response = stub.Predict(pb_request, timeout=20.0)"
   ]
  },
  {
   "cell_type": "code",
   "execution_count": 21,
   "id": "c076230b-57f7-4c41-979c-f43ca88264da",
   "metadata": {},
   "outputs": [
    {
     "data": {
      "text/plain": [
       "outputs {\n",
       "  key: \"dense_9\"\n",
       "  value {\n",
       "    dtype: DT_FLOAT\n",
       "    tensor_shape {\n",
       "      dim {\n",
       "        size: 1\n",
       "      }\n",
       "      dim {\n",
       "        size: 1\n",
       "      }\n",
       "    }\n",
       "    float_val: 0.0862027108669281\n",
       "  }\n",
       "}\n",
       "model_spec {\n",
       "  name: \"pizza-model\"\n",
       "  version {\n",
       "    value: 1\n",
       "  }\n",
       "  signature_name: \"serving_default\"\n",
       "}"
      ]
     },
     "execution_count": 21,
     "metadata": {},
     "output_type": "execute_result"
    }
   ],
   "source": [
    "pb_response"
   ]
  },
  {
   "cell_type": "code",
   "execution_count": 22,
   "id": "d0bd1bbe-2aa1-4e1a-8715-ed17175146f0",
   "metadata": {},
   "outputs": [
    {
     "data": {
      "text/plain": [
       "[0.0862027108669281]"
      ]
     },
     "execution_count": 22,
     "metadata": {},
     "output_type": "execute_result"
    }
   ],
   "source": [
    "predictions = pb_response.outputs[\"dense_9\"].float_val\n",
    "predictions"
   ]
  },
  {
   "cell_type": "code",
   "execution_count": 23,
   "id": "d849c222-4991-4a86-85c6-a123ad5db814",
   "metadata": {},
   "outputs": [
    {
     "name": "stdout",
     "output_type": "stream",
     "text": [
      "Not a pizza.\n"
     ]
    }
   ],
   "source": [
    "for prediction in predictions:\n",
    "    if prediction > 0.5:\n",
    "        print(\"It's a pizza!\")\n",
    "    else:\n",
    "        print(\"Not a pizza.\")"
   ]
  },
  {
   "cell_type": "code",
   "execution_count": null,
   "id": "625273f7-e245-49b0-83e4-a4edf57aa6cf",
   "metadata": {},
   "outputs": [],
   "source": []
  }
 ],
 "metadata": {
  "kernelspec": {
   "display_name": "Python 3 (ipykernel)",
   "language": "python",
   "name": "python3"
  },
  "language_info": {
   "codemirror_mode": {
    "name": "ipython",
    "version": 3
   },
   "file_extension": ".py",
   "mimetype": "text/x-python",
   "name": "python",
   "nbconvert_exporter": "python",
   "pygments_lexer": "ipython3",
   "version": "3.9.3"
  }
 },
 "nbformat": 4,
 "nbformat_minor": 5
}
